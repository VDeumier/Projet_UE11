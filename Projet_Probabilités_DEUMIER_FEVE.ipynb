{
 "cells": [
  {
   "cell_type": "markdown",
   "metadata": {
    "tags": []
   },
   "source": [
    "# Processus ponctuels \n",
    "\n",
    "Les processus ponctuels sont des modèles probabilistes permettant de décrire la position aléatoire de points dans un domaine spatial. Ils peuvent être utilisés pour modéliser un grand nombre de phénomènes, parmi lesquels on peut citer l'implantation des essences d'arbres au sein d'une forêt, la position des épicentres de séismes ou des départs de feux, la mortalité dans une épidémie, ou encore l'occurence de crimes ou délits en zone urbaine. \n",
    "\n",
    "Dans ce projet, on se propose d'étudier et de simuler un certain nombre de modèles dans $\\mathbb{R}^2$, de complexité croissante, de manière à construire un prototype de modèle écologique visant à simuler la plantation puis l'évolution d'une forêt.\n",
    "\n",
    "On admet que l'on caractérise la loi de probabilité d'un processus ponctuel spatial $\\mathcal{P}$ par le biais de sa *mesure de comptage*, qui est l'application qui à $A \\in \\mathcal{B}(\\mathbb{R}^2)$ associe $N(A)$, la variable aléatoire qui donne le nombre de points de $\\mathcal{P}$ contenus dans $A$. \n",
    "\n",
    "La *loi spatiale de la mesure de comptage* est définie $\\forall p \\in \\mathbb{N^\\star}, \\forall n_1,\\ldots,n_p \\in \\mathbb{N}^p, \\forall A_1,\\ldots,A_p \\in \\mathcal{B}(\\mathbb{R}^2)$ par $\\mathbb{P}(N(A_1)= n_1, \\ldots, N(A_p)=n_p)$.\n",
    "\n",
    "## Processus de Poisson homogène\n",
    "\n",
    "On définit le processus de Poisson homogène de la manière suivante :\n",
    "\n",
    "1. Si $ A \\in {\\cal B} (\\R^2) $, alors $N (A)$ suit\n",
    "      une loi de Poisson de paramètre $\\theta \\, | A |$, avec $|A| = \\lambda(A)$, où $\\lambda$ est la mesure de Lebesgue\n",
    "      $$ \\mathbb{P} ( N (A) = n) = \\exp \\bigl( - \\theta | A | \\bigr) \\frac{\n",
    "        \\bigl( \\theta | A | \\bigr)^n }{n!},~n \\in \\N $$\n",
    "\n",
    "2. Pour tout $p\\ge 2$, si $A_1,...,A_p \\in {\\cal B} (\\R^2) $ sont \n",
    "      disjoints deux à deux, alors $ N(A_1),...,N(A_p)$ sont \n",
    "      mutuellement indépendants\n",
    "\n",
    "Le paramètre $\\theta$ est appelé l'intensité du processus.\n",
    "\n",
    "**Question 1.** \n",
    "\n",
    "a. Montrer que cette définition permet de caractériser la loi spatiale de la mesure de comptage du processus pour un couple de boréliens. c'est-à-dire qu'elle permet de calculer $\\mathbb{P}(N(A)= n, N(B)=p),~\\forall \\,n,p \\in \\mathbb{N^\\star} \\,\\forall A, B \\in \\mathcal{B}(\\mathbb{R}^2)$.\n",
    "\n",
    "Soit $A, B \\in {\\cal B} (\\R^2)$ et $n, p \\in \\N$,\n",
    "\n",
    "$$ \\mathbb{P} ( N (A) = n, N (B) = p) = \\sum_{k \\in \\N} \\mathbb{P} ( N (A) = n, N (B) = p | N (A \\cap B) = k ) \\mathbb{P} ( N (A \\cap B) = k ) $$\n",
    "\n",
    "d'après la formule des probabilités totales sur le système quasi-complet d'évènements $ ( N (A \\cap B) = k )_{k \\in \\N} $.\n",
    "\n",
    "On a $ \\mathbb{P} ( N (A) = n, N (B) = p | N (A \\cap B) = k ) = 0, \\forall k \\ge min(n, p) $ car $ N (A) \\ge N (A \\cap B) $ et $ N (B) \\ge N (A \\cap B) $  (N étant une mesure).\n",
    "\n",
    "et\n",
    "\n",
    "$$ \\forall k \\in [\\![0; min(n, p)]\\!], \\mathbb{P} ( N (A) = n, N (B) = p | N (A \\cap B) = k ) = \\mathbb{P} ( N (A \\setminus B) = n - k, N (B \\setminus A) = p - k) $$\n",
    "\n",
    "Comme $ A \\setminus B $ et $ B \\setminus A $ sont disjoints, on a:\n",
    "\n",
    "$$ \\mathbb{P} ( N (A) = n, N (B) = p) = \\sum_{k = 0}^{min(n, p)} \\mathbb{P} ( N (A \\setminus B) = n - k ) \\mathbb{P} ( N (B \\setminus A) = p - k ) \\mathbb{P} ( N (A \\cap B) = k ) $$\n",
    "\n",
    "et cette valeur peut être calculée à l'aide de la définition donnée.\n",
    "\n",
    "b. *(facultatif)* Montrer que cette définition permet de caractériser la loi spatiale de la mesure de comptage du processus.\n",
    "\n",
    "On procède par récurrence :\n",
    "\n",
    "Pour $n \\in \\mathbb{N}^\\star$ on pose $H(n)$ : \" pour tout $p \\in [\\![1; n]\\!]$, on peut calculer $\\mathbb{P}(N(A_1)= n_1, \\ldots, N(A_p)=n_p)$ pour tout $n_1,\\ldots,n_p \\in \\mathbb{N}^p$ et $ A_1,\\ldots,A_p \\in \\mathcal{B}(\\mathbb{R}^2)$ grâce à la définition du processus\"\n",
    "\n",
    "Initialisation : On a déjà $H(1)$ (définition) et $H(2)$ (question précédente)\n",
    "\n",
    "Héredité : Soit $n \\in \\mathbb{N}^\\star$ on suppose $H(n)$, soit $n_1,\\ldots,n_{n+1} \\in \\mathbb{N}^{n+1}$ et $ A_1,\\ldots,A_{n+1} \\in \\mathcal{B}(\\mathbb{R}^2)$\n",
    "\n",
    "en utilisant la formule des probabilités totales avec le système quasi-complet $ ( N (A_1 \\cap A_{n_{n+1}}=k_1,\\ldots,N (A_n \\cap A_{n_{n+1}}) = k_n )_{(k_1,\\ldots,k_n) \\in \\mathbb{N}^n} $, on a :\n",
    "\n",
    "$\\mathbb{P}(N(A_1)= n_1, \\ldots, N(A_{n+1})=n_{n+1})=\\sum_{(k_1,\\ldots,k_n) \\in \\mathbb{N}^n} \\mathbb{P}(N(A_1)= n_1, \\ldots, N(A_{n+1})=n_{n+1},N (A_1 \\cap A_{n+1})=k_1, \\ldots,N (A_n \\cap A_{n+1}) = k_n)$\n",
    "\n",
    "en supprimant les termes nuls et en conditionnant, on a :\n",
    "\n",
    "$$\\mathbb{P}(N(A_1)= n_1, \\ldots, N(A_{n+1})=n_{n+1})=\\sum_{(k_1,\\ldots,k_n) \\in \\prod_{i \\in [\\![1; n]\\!]} [\\![0; n_i]\\!]} \\mathbb{P}(N (A_1 \\cap A_{n+1})=k_1, \\ldots,N (A_n \\cap A_{n+1}) = k_n)\\mathbb{P}_{(N (A_1 \\cap A_{n+1})=k_1, \\ldots,N (A_n \\cap A_{n+1}) = k_n)}(N(A_1)= n_1, \\ldots, N(A_{n+1})=n_{n+1})$$\n",
    "\n",
    "donc \n",
    "\n",
    "$$\\mathbb{P}(N(A_1)= n_1, \\ldots, N(A_{n+1})=n_{n+1})=\\sum_{(k_1,\\ldots,k_n) \\in \\prod_{i \\in [\\![1; n]\\!]} [\\![0; n_i]\\!]} \\mathbb{P}(N (A_1 \\cap A_{n+1})=k_1, \\ldots,N (A_n \\cap A_{n+1}) = k_n)\\mathbb{P}(N(A_1\\setminus A_1 \\cap A_{n+1})= n_1-k_1, \\ldots, N(A_{n}\\setminus A_n \\cap A_{n+1})=n_n - k_n, N(A_{n+1})= n_{n+1})$$\n",
    "\n",
    "Par hypothèse de récurrence, on peut calculer le premier terme de chaque produit. Il reste à calculer le second terme. Pour cela on va appliquer le processus précédent (supprimer les intersections) jusqu'à obtenir des évenements deux à deux disjoints. On ne va pas détailler entièrement la récurrence descendante mais seulement expliquer le principe afin de conserver une rédaction légère.\n",
    "\n",
    "Soit $(k_1,\\ldots,k_n) \\in \\prod_{i \\in [\\![1; n]\\!]} [\\![0; n_i]\\!]$\n",
    "\n",
    "On pose $A'_1=A_1\\setminus A_1 \\cap A_{n+1}, \\ldots,A'_n=A_{n}\\setminus A_n \\cap A_{n+1}$ et $n'_1=n_1 - k_1, \\ldots,n'_n=n_n - k_n $\n",
    "\n",
    "Calculons $\\mathbb{P}(N(A'_1) = n'_1, \\ldots,N(A'_n) = n'_n,N(A_{n+1}) = n_{n+1})$\n",
    "\n",
    "En conditionnant à nouveau grâce aux probabilités totales  sur les valeurs de comptage des intersections deux à deux des $A'_i$  on exprime le terme précedent comme une somme de produit de deux termes :\n",
    "\n",
    "-l'un provenant du conditionnement et dont on peux calculer la valeur par hypothèse de récurrence \n",
    "\n",
    "-l'autre étant de la forme $\\mathbb{P}(N(A''_1) = n''_1, \\ldots,N(A''_{n-1}) = n''_{n-1},N(A'_n) = n'_n,N(A_{n+1}) = n_{n+1})$ où $A'_n$ et $A_{n+1}$ sont disjoints l'un de l'autre et disjoints des $A''_j$ \n",
    "\n",
    "En répetant le processus, on aboutit à $n+1$ ensembles deux à deux disjoints dont on peut calucler la valeur de comptage grâce à la définition.\n",
    "\n",
    "On remonte à la valeur initiale par sommes finies et produits finis de termes dont on peut calculer la valeur grâce à la définition.\n",
    "\n",
    "On a donc $H(n+1)$, la propriété est héréditaire.\n",
    "\n",
    "Donc en conclusion, la définition donnée suffit à caractériser la mesure de comptage.\n",
    "\n",
    "\n",
    "\n"
   ]
  },
  {
   "cell_type": "markdown",
   "metadata": {},
   "source": [
    "**Question 2.** Soit $n \\in \\mathbb{N}^\\star$, montrer que pour tout $A, B\\in\\mathbb{R}^2$ tels que  $B \\subset A$, on a\n",
    " $$ \\mathbb{P}(N(B) = i | N(A) = n)={ n \\choose i } \\left( \\frac{ | B | }{ | A | } \\right)^i \n",
    "\\, \\left( 1 - \\frac{ | B | }{ | A | } \\right)^{n - i}$$\n",
    "En déduire que conditionnellement à $N(A)=n$, les $n$ points sont indépendamment et uniformément distribués dans $A$ \n",
    " \n",
    "*(Indication: On pourra faire un parallèle avec des expériences de Bernoulli indépendantes)*.\n",
    "\n",
    "On a\n",
    "\n",
    "$$ \\mathbb{P}(N(B) = i | N(A) = n) = \\frac{\\mathbb{P} ( N (A) = n, N (B) = i)}{\\mathbb{P}(N(a) = n)} $$\n",
    "\n",
    "avec, d'après la question précédente\n",
    "\n",
    "$$ \\mathbb{P} ( N (A) = n, N (B) = i) = \\sum_{k = 0}^{min(n, i)} \\mathbb{P} ( N (A \\setminus B) = n - k ) \\mathbb{P} ( N (\\emptyset) = i - k ) \\mathbb{P} ( N (B) = k ) $$\n",
    "\n",
    "Or $ \\mathbb{P}( N(\\emptyset) = a) = 0 $ si $ a \\neq 0 $ et $ \\mathbb{P}( N(\\emptyset) = 0) = 1 $, donc\n",
    "\n",
    "$$ n < i \\implies \\mathbb{P} ( N (A) = n, N (B) = i) = 0 $$\n",
    "\n",
    "$$ n \\ge i \\implies \\mathbb{P} ( N (A) = n, N (B) = i) = \\mathbb{P}( N (A \\setminus B) = n - i ) \\mathbb{P} ( N (B) = i ) $$\n",
    "\n",
    "avec, si $n \\ge i$, \n",
    "\n",
    "$$\\mathbb{P}( N (A \\setminus B) = n - i ) \\mathbb{P} ( N (B) = i ) = \\exp \\bigl( - \\theta | A | \\bigr) \\frac{ \\bigl( \\theta | A | - \\theta | B | \\bigr)^{n - i} }{(n - i)!} \\frac{ \\bigl( \\theta | B | \\bigr)^{i} }{i!} $$\n",
    "\n",
    "car $ B \\subset A \\implies | A \\setminus B | = | A | - | B | $\n",
    "\n",
    "d'où, finalement\n",
    "\n",
    "$$ \\mathbb{P}(N(B) = i | N(A) = n) = \\frac{n!}{ \\bigl( \\theta | A | \\bigr)^n} \\frac{ \\bigl( \\theta | A | - \\theta | B | \\bigr)^{n - i} }{(n - i)!} \\frac{ \\bigl( \\theta | B | \\bigr)^{i} }{i!} $$\n",
    "\n",
    "$$ \\implies \\mathbb{P}(N(B) = i | N(A) = n) = \\binom{n}{i} \\bigl( \\frac{|B|}{|A|} \\bigr)^i \\bigl( 1 - \\frac{|B|}{|A|} \\bigr)^{n - i} $$\n",
    "\n",
    "On retrouve ici une loi binomiale de paramètres $(n, \\frac{|B|}{|A|})$, qui peut s'interpréter comme une somme de n variables de Bernoulli indépendantes et de paramètre $\\frac{|B|}{|A|} = \\int_{B} \\frac{1}{|A|} d\\lambda$, on reconnaît ici une densité uniforme sur A."
   ]
  },
  {
   "cell_type": "markdown",
   "metadata": {},
   "source": [
    "**Question 3.** Soient $A, B \\in \\cal{B}(\\mathbb{R}^2)$, montrer que $\\mathrm{Cov}(N(A),N(B)) = \\theta |A \\cap B|$.\n",
    "\n",
    "Etant donné la définition de la mesure de comptage, le produit $N(A)N(B)$ est d'éspérence fini.\n",
    "\n",
    "En notant que $N(A)=N(A \\setminus A\\cap B) + N(A\\cap B)$ on obtient que :\n",
    "\n",
    "$\\mathrm{Cov}(N(A),N(B))=\\mathrm{Cov}(N(A \\setminus A\\cap B),N(B)) + \\mathrm{Cov}(N(A\\cap B),N(B))$\n",
    "\n",
    "or $A \\setminus A\\cap B$ et $B$ sont disjoints donc $N(A \\setminus A\\cap B)$ et $N(B)$ sont indépendants.\n",
    "\n",
    "Ainsi $\\mathrm{Cov}(N(A \\setminus A\\cap B),N(B))=0$ et $\\mathrm{Cov}(N(A),N(B))=\\mathrm{Cov}(N(A\\cap B),N(B))$\n",
    "\n",
    "\n",
    "$\\mathrm{Cov}(N(A\\cap B),N(B))=\\mathbb{E}(N(A\\cap B)N(B))-\\mathbb{E}(N(A\\cap B))\\mathbb{E}(N(B))$\n",
    "\n",
    "$\\mathbb{E}(N(A\\cap B))= \\theta|A\\cap B|$ et $\\mathbb{E}(N(B))= \\theta|B|$\n",
    "\n",
    "$\\mathbb{E}(N(A\\cap B)N(B))= \\sum_{n,m \\in \\mathbb{N}^2}mn\\mathbb{P}(N(A\\cap B)=n,N(B)=m)$ en utilisant le théorème de Fubini on obtient :\n",
    "\n",
    "$\\mathbb{E}(N(A\\cap B)N(B))= \\sum_{m \\in \\mathbb{N}}\\sum_{n \\in  [\\![0; m]\\!]} mn\\mathbb{P}(N(A\\cap B)=n,N(B)=m)$\n",
    "\n",
    "donc\n",
    "\n",
    "$$\\mathbb{E}(N(A\\cap B)N(B))=\\sum_{m \\in \\mathbb{N}}m\\sum_{n \\in  [\\![0; m]\\!]}n\\mathbb{P}(N(A\\cap B)=n,N(B)=m)$$\n",
    "\n",
    "en utilisant la formule des probabilités totales avec le système quasi-complet $(N(B)=m)_{m \\in \\mathbb{N}}$, on a \n",
    "\n",
    "$$\\mathbb{E}(N(A\\cap B)N(B))=\\sum_{m \\in \\mathbb{N}}m\\mathbb{P}(N(B)=m)\\sum_{n \\in  [\\![0; m]\\!]}n\\mathbb{P}(N(A\\cap B)=n|N(B)=m)$$\n",
    "\n",
    "soit $m \\in \\mathbb{N^\\star}$ \n",
    "\n",
    "d'après la $Q2$\n",
    "\n",
    "$\\forall n \\in [\\![0; m]\\!], \\mathbb{P}(N(A\\cap B)=n|N(B)=m)=\\binom{m}{n} \\bigl( \\frac{|A\\cap B|}{|B|} \\bigr)^n \\bigl( 1 - \\frac{|A\\cap B|}{|B|} \\bigr)^{m - n}$\n",
    "\n",
    "Ainsi\n",
    "\n",
    "$$\\sum_{n \\in  [\\![0; m]\\!]}n\\mathbb{P}(N(A\\cap B)=n)\\mathbb{P}(N(B)=m)=\\sum_{n \\in  [\\![0; m]\\!]}n\\binom{m}{n} \\bigl( \\frac{|A\\cap B|}{|B|} \\bigr)^n \\bigl( 1 - \\frac{|A\\cap B|}{|B|} \\bigr)^{m - n}$$\n",
    "\n",
    "en utilisant la formule du capitaine\n",
    "\n",
    "$$\\sum_{n \\in  [\\![0; m]\\!]}n\\mathbb{P}(N(A\\cap B)=n)\\mathbb{P}(N(B)=m)=\\sum_{n \\in  [\\![1; m]\\!]}m\\binom{m-1}{n-1} \\bigl( \\frac{|A\\cap B|}{|B|} \\bigr)^n \\bigl( 1 - \\frac{|A\\cap B|}{|B|} \\bigr)^{m - n}=m\\frac{|A\\cap B|}{|B|}\\sum_{n \\in  [\\![0; m-1]\\!]}\\binom{m-1}{n} \\bigl( \\frac{|A\\cap B|}{|B|} \\bigr)^n \\bigl( 1 - \\frac{|A\\cap B|}{|B|} \\bigr)^{m-1 - n}$$\n",
    "\n",
    "$=\\frac{|A\\cap B|}{|B|}m$\n",
    "\n",
    "Ainsi:\n",
    "\n",
    "$$\\mathbb{E}(N(A\\cap B)N(B))=\\sum_{m \\in \\mathbb{N}}\\frac{|A\\cap B|}{|B|}m^2\\mathbb{P}(N(B)=m)=\\frac{|A\\cap B|}{|B|}(\\mathbb{V}(N(B))+\\mathbb{E}(N(B))^2)=\\frac{|A\\cap B|}{|B|}(\\theta|B|+(\\theta|B|)^2)$$\n",
    "\n",
    "Donc finalement:\n",
    "\n",
    "$$\\mathrm{Cov}(N(A),N(B))=\\frac{|A\\cap B|}{|B|}(\\theta|B|+(\\theta|B|)^2) -\\theta|A\\cap B|\\theta|B|=\\theta|A\\cap B|$$\n",
    "\n",
    "\n",
    "\n"
   ]
  },
  {
   "cell_type": "markdown",
   "metadata": {},
   "source": [
    "**Question 4.** Proposer et implémenter un algorithme de simulation d'un processus de Poisson de paramètre $\\theta = 0.05$ sur $[0,100]\\times [0,100]$. Représenter graphiquement une réalisation.\n",
    "\n",
    "*(Indication: On pourra utiliser les fonctions `random.poisson` et `random.uniform` de `numpy`)*"
   ]
  },
  {
   "cell_type": "code",
   "execution_count": 1,
   "metadata": {},
   "outputs": [],
   "source": [
    "import numpy as np\n",
    "rng = np.random.default_rng(seed=42)\n",
    "import matplotlib.pyplot as plt\n",
    "import scipy.stats as sps"
   ]
  },
  {
   "cell_type": "code",
   "execution_count": 22,
   "metadata": {},
   "outputs": [
    {
     "data": {
      "image/png": "[encoded data removed]",
      "text/plain": [
       "<Figure size 640x480 with 1 Axes>"
      ]
     },
     "metadata": {},
     "output_type": "display_data"
    }
   ],
   "source": [
    "# Parameters\n",
    "theta = 0.05\n",
    "\n",
    "# Poisson simulation function\n",
    "def poisson_simulation(theta, a, b):\n",
    "    S = a*b\n",
    "    N = np.random.poisson(theta*S)\n",
    "    x = np.random.uniform(0, a, N)\n",
    "    y = np.random.uniform(0, b, N)\n",
    "    return np.column_stack((x, y))\n",
    "\n",
    "# Plotting\n",
    "data = poisson_simulation(theta, 100, 100)\n",
    "plt.scatter(data[:, 0], data[:, 1], s =2)\n",
    "plt.show()\n"
   ]
  },
  {
   "cell_type": "markdown",
   "metadata": {},
   "source": [
    "Cette première simulation peut représenter l'implantation de pousses d'arbres (en nombre poissonnien) réalisée \"au hasard\", par exemple après une coupe rase. On peut imaginer que des facteurs extérieurs puissent interférer avec ce processus, ce que l'on va décrire avec les processus de Poisson hétérogènes."
   ]
  },
  {
   "cell_type": "markdown",
   "metadata": {},
   "source": [
    "## Processus de Poisson hétérogène\n",
    "\n",
    "Dans le cas du processus de Poisson hétérogène, l'intensité du processus $ \\theta = \\left( \\theta (x), x \\in \\R^2 \\right)$ varie. Il se définit comme suit :\n",
    "\n",
    "1. Si $ A \\in {\\cal B} (\\R^2) $, alors $N (A)$\n",
    "      suit une loi de Poisson de paramètre\n",
    "      $$ \\theta (A) \\ = \\ \\int_A \\theta (x) \\, dx. $$\n",
    "\n",
    "2. Si $A_1,...,A_p \\in {\\cal B} (\\R^2) $ sont \n",
    "      disjoints deux à deux, alors $ N(A_1),...,N(A_p)$ sont \n",
    "      mutuellement indépendants\n"
   ]
  },
  {
   "cell_type": "markdown",
   "metadata": {},
   "source": [
    "\n",
    "**Question 1.**  Soit $n \\in \\mathbb{N}^\\star$, montrer que si $N(A)=n$ les $n$ points sont indépendamment distribués dans $A$ avec la même densité de probabilité \n",
    "  $$ f (x)=\\frac{\\theta (x)}{\\theta (A)}, \\qquad x \\in A $$\n",
    "\n",
    "*(Indication : On pourra considérer $B \\subset A$ quelconque et identifier la loi de $\\mathbb{P}(N(B) = i | N(A) = n)$. On pourra ensuite étudier $\\mathbb{P}(N(B) = 1 | N(A) = 1)$ pour identifier la loi de probabilité de l'implantation des points)*\n",
    "\n",
    " <!-- <font color='blue'> Au vu de ce qu'ils connaissent de la notion d'indépendance, est-ce qu'on pourrait pas plutôt leur faire montrer que pour tous $B_1, \\dots, B_p \\subset A$, \n",
    " $$ \\mathbb{P}(X_1\\in B_1, \\dots, X_n \\in B_n | N(A) = n) = \\prod_{i=1}^n\\mathbb{P}(U\\in B_i)$$\n",
    " où $(X_1, \\dots, X_n)$ représente le processus ponctuel conditionné et $U$ une variable uniforme dans A.\n",
    "\n",
    " Je propose:\n",
    "\n",
    "\n",
    "**Question 1.** Soit $n\\ge 1$ et $A \\in {\\cal B} (\\R^2)$. Supposons que le processus ponctuel vérifie $N(A)=n$ et notons $(X_1,\\dots, X_n)$ les positions aléatoires, dans $A$, des points du processus. \n",
    "\n",
    "**a.** Montrer que, pour tous $B_1, \\dots, B_n \\subset A$ deux à deux disjoints\n",
    "$$ \\mathbb{P}(X_1\\in B_1, \\dots, X_n \\in B_n | N(A) = n) = \\frac{1}{n!} \\mathbb{P}(N(B_1)=1, \\dots, N(B_n)=1 | N(A) = n) $$\n",
    "\n",
    "**b.** En déduire que, pour tous $B_1, \\dots, B_n \\subset A$ deux à deux disjoints\n",
    "$$ \\mathbb{P}(X_1\\in B_1, \\dots, X_n \\in B_n | N(A) = n) = \\prod_{i=1}^n\\mathbb{P}(U\\in B_i)$$\n",
    "où $U$ est la variable aléatoire de densité de probabilité \n",
    "  $$ f_U (x)=\\frac{\\theta (x)}{\\theta (A)}, \\qquad x \\in A. $$\n",
    "\n",
    "Et on admet que ca reste vrai quand les $B_i$ ne sont pas disjoints (ou alors on met ca en question bonus, acr c'est plus galère à faire...).\n",
    "\n",
    "-> l'idée est ici de leur faire utiliser la même démarche qu'en homogène pour établir l'indépendance\n",
    "\n",
    "  </font> -->"
   ]
  },
  {
   "cell_type": "markdown",
   "metadata": {},
   "source": [
    "**Question 3.** Soient $A, B \\in \\cal{B}(\\mathbb{R}^2)$, montrer que $\\mathrm{Cov}(N(A),N(B)) = \\theta (A \\cap B)$."
   ]
  },
  {
   "cell_type": "markdown",
   "metadata": {},
   "source": [
    "Si la plantation se fait en plusieurs campagnes, ou bien si on s'intéresse à différentes essences d'arbres, on peut être amené à combiner plusieurs processus ponctuels.\n",
    "\n",
    "**Question 4.** Montrer que l'union de deux processus de Poisson indépendants d'intensités respectives $\\theta_1$ et $\\theta_2$ est un processus de Poisson d'intensité $\\theta = \\theta_1+\\theta_2$."
   ]
  },
  {
   "cell_type": "markdown",
   "metadata": {},
   "source": [
    "On suppose que l'altitude (en mètres) du domaine d'étude $D=[0,100]\\times [0,100]$ peut être décrite par la fonction suivante : \n",
    "$$f(x) = 10^4 \\left(f_{(30,20),\\Sigma_1}(x) + f_{(80,45),\\Sigma_2}(x) + f_{(30,70),\\Sigma_3}(x)\\right), x\\in \\mathbb{R^2}$$\n",
    "\n",
    "où $f_{\\mu, \\Sigma}$ est la densité gaussienne bivariée d'espérance $\\mu$ et de matrice de covariance $\\Sigma$.\n",
    "\n",
    "**Question 5.** Représenter la topologie du domaine d'étude, avec\n",
    "$$\\Sigma_1 = \\begin{pmatrix} 400 & 30 \\\\ 30 & 100\\end{pmatrix}, \\Sigma_2 = \\begin{pmatrix} 100 & 20 \\\\ 20 & 200\\end{pmatrix}, \\Sigma_3 = \\begin{pmatrix} 150 & -30 \\\\ -30 & 100\\end{pmatrix}.$$\n",
    "*(Indication: On pourra utiliser la fonction `multivariate_normal`  de `scipy.stats` pour évaluer les fonctions $f_{\\mu, \\Sigma}$)*"
   ]
  },
  {
   "cell_type": "code",
   "execution_count": 5,
   "metadata": {},
   "outputs": [
    {
     "name": "stdout",
     "output_type": "stream",
     "text": [
      "13.403264107207214\n"
     ]
    },
    {
     "data": {
      "image/png": "[encoded data removed]",
      "text/plain": [
       "<Figure size 640x480 with 2 Axes>"
      ]
     },
     "metadata": {},
     "output_type": "display_data"
    }
   ],
   "source": [
    "x, y = np.mgrid[0:100:.05, 0:100:.05]\n",
    "\n",
    "pos = np.dstack((x, y))\n",
    "\n",
    "sigma_1 = np.array([[400, 30], [30, 100]])\n",
    "sigma_2 = np.array([[100, 20], [20, 200]])\n",
    "sigma_3 = np.array([[150, -30], [-30, 100]])\n",
    "\n",
    "def topo(pos):\n",
    "\n",
    "    f_1 = sps.multivariate_normal(mean=[30, 20], cov=sigma_1)\n",
    "    f_2 = sps.multivariate_normal(mean=[80, 45], cov=sigma_2)\n",
    "    f_3 = sps.multivariate_normal(mean=[30, 70], cov=sigma_3)\n",
    "\n",
    "    f = 10000 * (f_1.pdf(pos) + f_2.pdf(pos) + f_3.pdf(pos))\n",
    "\n",
    "    return f\n",
    "\n",
    "fig = plt.figure()\n",
    "\n",
    "ax = fig.add_subplot(111)\n",
    "\n",
    "CS = ax.contourf(x, y, topo(pos))\n",
    "CS2 = ax.contour(CS, levels=CS.levels)\n",
    "# Make a colorbar for the ContourSet returned by the contourf call.\n",
    "cbar = fig.colorbar(CS)\n",
    "cbar.ax.set_ylabel('altitude')\n",
    "# Add the contour line levels to the colorbar\n",
    "cbar.add_lines(CS2)\n",
    "plt.show()\n"
   ]
  },
  {
   "cell_type": "markdown",
   "metadata": {},
   "source": [
    "On supposera en première approximation que l'on peut considérer les supports des fonctions $f_{(30,20),\\Sigma_1}$, $f_{(80,45),\\Sigma_2}$ et $f_{(30,70),\\Sigma_3}$ comme disjoints, que le maximum de la fonction $f$ vaut\n",
    "$$ f_{\\max}=\\max_{x\\in D} f(x)=10^4\\times f_{(30,70),\\Sigma_3}(30,70) $$\n",
    "et que son minimum vaut\n",
    "$$ f_{\\min}=\\min_{x\\in D} f(x)=0$$\n",
    "<!-- et que \n",
    "$$ \\int_D f_{(3,2),\\Sigma_1}(x) dx=\\int_D f_{(8,4.5),\\Sigma_2}(x) dx=\\int_D f_{(3,7),\\Sigma_3}(x) dx=1$$ -> ça j'aimerais bien qu'ils s'en aperçoivent par eux même !-->"
   ]
  },
  {
   "cell_type": "markdown",
   "metadata": {},
   "source": [
    "Le processus d'implantation des arbres étant entravé par l'altitude, on choisi désormais de modéliser leur position par un processus de Poisson hétérogène dont l'intensité $\\theta$ est de la forme :\n",
    "$$ \\theta(x)=\\alpha\\times(f_{\\max} - f(x) )$$\n",
    "avec $ \\alpha>0$. "
   ]
  },
  {
   "cell_type": "markdown",
   "metadata": {},
   "source": [
    "\n",
    "**Question 6.** Déterminer le paramètre $\\alpha$ de la fonction d'intensité $\\theta$ tel que le nombre moyen d'arbres dans $D$ soit le même que celui obtenu à la Question 4 de la section précédente (cas homogène). Implémenter un algorithme de simulation d'un processus de Poisson suivant cette intensité sur $D$. Représenter graphiquement une réalisation.\n",
    "\n"
   ]
  },
  {
   "cell_type": "code",
   "execution_count": null,
   "metadata": {},
   "outputs": [],
   "source": [
    "alpha = 1\n",
    "\n",
    "def theta(x):\n",
    "    return alpha*(topo([30, 70]) - topo(x))\n",
    "\n",
    "# Rejection sampling for theta\n",
    "def rtheta(n, a, b):\n",
    "    k = 0\n",
    "    pts = np.empty((0, 2))\n",
    "    while k < n:\n",
    "        x = \n",
    "        y = \n",
    "        u = \n",
    "        if u < theta((x[0],y[0])): # remark: no need to know the normalization constant!\n",
    "            pts = np.vstack((pts, [x[0], y[0]]))\n",
    "            k += 1 \n",
    "    return pts\n",
    "\n",
    "# Poisson simulation function with rejection sampling\n",
    "def poisson2(a, b):\n",
    "    Theta = \n",
    "    N = \n",
    "    return rtheta(N, a, b)\n",
    "\n",
    "\n",
    "# Plotting\n",
    "X = poisson2(a, b)\n",
    "plt.scatter(X[:, 0], X[:, 1],s=2)\n",
    "plt.show()\n",
    "\n",
    "# Plot 2D histogram\n",
    "plt.hist2d(X[:,0],X[:,1],50)\n",
    "plt.show()"
   ]
  },
  {
   "cell_type": "markdown",
   "metadata": {},
   "source": [
    "## Processus ponctuels marqués et extension spatio-temporelle\n",
    "\n",
    "En complément de la coordonnée en chaque point du processus, on peut attribuer une ou plusieurs variables aléatoires. Celles-ci peuvent représenter des caractéristiques du phénomène étudié comme la magnitude d'un séisme ou bien la hauteur d'un arbre. \n",
    "\n",
    "**Question 1.** On suppose que chaque arbre croît indépendamment chaque année $t$ selon une loi exponentielle de paramètre $4 + B_t/2$, où les $B_t$ sont des variables de Bernoulli indépendantes de paramètre $2/5$. $B_t$ vaudra 0 si les conditions météorologiques de l'année sont favorables et 1 sinon. Calculer la hauteur moyenne d' un arbre au bout de 10 ans. Vérifier le résultat expérimentalement en proposant un estimateur calculé sur un ensemble de simulations ainsi qu'un intervalle de confiance."
   ]
  },
  {
   "cell_type": "code",
   "execution_count": null,
   "metadata": {},
   "outputs": [],
   "source": [
    "## True mean \n",
    "h_mean=\n",
    "\n",
    "## Growth after one year\n",
    "def height_1(b):\n",
    "    return \n",
    "\n",
    "## Height after ten years\n",
    "def height_n(nyears=10):\n",
    "    \n",
    "    for i in range(nyears):\n",
    "        \n",
    "        \n",
    "    return h\n",
    "\n",
    "## Mean of simulations\n",
    "nbsim= # large number of trees\n",
    "hsim=\n",
    "hsim_mean=\n",
    "print(\"True mean: \",h_mean)\n",
    "print(\"Mean of simulations: \",hsim_mean)\n",
    "\n",
    "## Proposed confidence interval: \n",
    "hsim_std=\n",
    "hsim_conf=\n",
    "print(\"Confidence interval: \",hsim_conf)\n",
    "\n"
   ]
  },
  {
   "cell_type": "markdown",
   "metadata": {},
   "source": [
    "On suppose maintenant que dès qu'un arbre a dépassé les 3m de hauteur, il va disperser un nombre poissonien d'intensité 3 de graines qui germeront dans un rayon exponentiel de paramètre 1/20. Ceci définit un processus ponctuel représentant des agrégats, connu sous le nom de processus de Neyman-Scott. On fait de plus l'hypothèse que la proximité entre arbres va entraver leur croissance annuelle, de fait que celle-ci suivra une loi exponentielle de paramètre $4 + B_t/2 + 2\\exp(-d)$, où $d$ est la distance à l'arbre le plus proche. Enfin, on considère que lors des années où la météo est défavorable, les arbres sont décimés indépendamment les uns des autres avec une probabilité $\\min(0.15,1/T^2)$ où $T$ est la taille de l'arbre en mètres.\n"
   ]
  },
  {
   "cell_type": "markdown",
   "metadata": {},
   "source": [
    "\n",
    "**Question 2.** Simuler cette dynamique sur une période de 100 ans à partir de l'état initial de la forêt généré à la question 6 de la section précédente. Représenter l'état final en faisant apparaître la hauteur des arbres via une échelle de couleur (on négligera les arbres qui pousseront en dehors du domaine d'étude)."
   ]
  },
  {
   "cell_type": "code",
   "execution_count": null,
   "metadata": {},
   "outputs": [],
   "source": [
    "\n",
    "## Growth after one year\n",
    "def height_1(b):\n",
    "    return \n",
    "\n",
    "## Compute distance to closest tree\n",
    "def computeMinDist(X):\n",
    "    \n",
    "\n",
    "## Definition of the probability of decimation\n",
    "### h : Height of the tree\n",
    "### pmax : Maximum of the probability\n",
    "def probDecim(h,pmax):  \n",
    "\n",
    "## Function to simulate the forest\n",
    "def simForest(nbyears,lam,param,pmin):\n",
    "\n",
    "\n",
    "    ## Simulate the position of initial trees: (x,y,time of birth)\n",
    "    \n",
    "    X = poisson2(100, 100)\n",
    "    X = np.hstack((X,np.zeros((np.shape(X)[0],1))))\n",
    "\n",
    "    ## Heights\n",
    "    # Initial heights\n",
    "\n",
    "    ## Age\n",
    "    \n",
    "\n",
    "    for i in range(nbyears):\n",
    "        \n",
    "        ## Weather\n",
    "\n",
    "        ## Compute distance to closest tree\n",
    "\n",
    "        ## Add heights\n",
    "        \n",
    "        ## Decimate\n",
    "            \n",
    "        if len(h_new)==0:\n",
    "            print(\"All trees have died...\")\n",
    "            break\n",
    "            \n",
    "        \n",
    "        ## Find which trees have just reached 3m\n",
    "        \n",
    "        ## Spawn new trees\n",
    "        \n",
    "        ## Update heights\n",
    "\n",
    "    return X, h\n",
    "\n"
   ]
  },
  {
   "cell_type": "code",
   "execution_count": null,
   "metadata": {},
   "outputs": [],
   "source": [
    "## Intensity of the offsprings\n",
    "lam=3\n",
    "\n",
    "## Parameter of the radius\n",
    "param=1/20\n",
    "\n",
    "## Maximal probability of decimation\n",
    "pmax=0.15\n",
    "\n",
    "## Number of years\n",
    "nbyears=100\n",
    "\n",
    "## Generate simulation\n",
    "X, h = simForest(nbyears,lam,param,pmax)\n",
    "\n",
    "## Plot\n",
    "plt.scatter(X[:,0],X[:,1],c=h,s=1)\n",
    "plt.xlim(0,100)\n",
    "plt.ylim(0,100)\n",
    "plt.colorbar()\n",
    "plt.title(\"Number of trees: \"+str(X.shape[0]))\n",
    "plt.show()"
   ]
  },
  {
   "cell_type": "markdown",
   "metadata": {},
   "source": [
    "\n",
    "**Question 3.** Répéter la simulation précédente un grand nombre de fois. Proposer une estimation accompagnée d'un intervalle de confiance du nombre moyen d'arbres, de l'âge moyen des arbres ainsi que de leur taille moyenne à l'issue des 100 années d'évolution."
   ]
  },
  {
   "cell_type": "code",
   "execution_count": null,
   "metadata": {},
   "outputs": [],
   "source": [
    "## Number of simulations\n",
    "nbsim = 1000\n",
    "\n",
    "## Generate simulations\n",
    "Nlist=np.zeros(nbsim)\n",
    "hlist=np.zeros(nbsim)\n",
    "for i in range(nbsim):\n",
    "    \n",
    "## Means\n",
    "print(\"Mean number of trees:\",Nlist.mean())\n",
    "print(\"Mean height of trees:\",hlist.mean())"
   ]
  },
  {
   "cell_type": "markdown",
   "metadata": {},
   "source": [
    "**Question 4.** (facultatif) Proposer et implémenter un algorithme rendant la simulation plus réaliste, au regard des ressources que vous pourriez trouver par vous même.\n",
    "\n",
    "**Question 5.** (facultatif) Représenter sous forme dynamique (animation) l'évolution de la forêt sur la période considérée."
   ]
  }
 ],
 "metadata": {
  "kernelspec": {
   "display_name": "Python 3 (ipykernel)",
   "language": "python",
   "name": "python3"
  },
  "language_info": {
   "codemirror_mode": {
    "name": "ipython",
    "version": 3
   },
   "file_extension": ".py",
   "mimetype": "text/x-python",
   "name": "python",
   "nbconvert_exporter": "python",
   "pygments_lexer": "ipython3",
   "version": "3.11.5"
  }
 },
 "nbformat": 4,
 "nbformat_minor": 4
}
